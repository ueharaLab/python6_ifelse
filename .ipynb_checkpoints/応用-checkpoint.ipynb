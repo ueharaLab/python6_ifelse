{
 "cells": [
  {
   "cell_type": "code",
   "execution_count": null,
   "id": "d412859c-0418-4710-be88-fc080ca683a6",
   "metadata": {},
   "outputs": [],
   "source": [
    "6. 極値への漸近  \n",
    "- 関数$J(w)=2w^2+w$の極値を$w=10$から$w=-10$まで$0.1$刻みで小さくして勾配$\\frac{dJ}{dw_{n+1}}$の絶対値が最小になる$w$を求めよ\n",
    "- 上記で求めた$w$の値が、方程式$\\frac{dJ}{dw}=0$の解を近似することを確認せよ"
   ]
  },
  {
   "cell_type": "code",
   "execution_count": null,
   "id": "255ed152-8354-4b89-b44b-50c9d0dc3878",
   "metadata": {},
   "outputs": [],
   "source": [
    "import numpy as np\n",
    "ws = np.arange(10,-10.1,-0.1)\n",
    "\n",
    "w_min = 0\n",
    "min_d = 9999\n",
    "for w in ws:\n",
    "    d=abs(4*w+1)\n",
    "    \n",
    "    if min_d > d: \n",
    "        min_d = d\n",
    "        w_min = w\n",
    "    \n",
    "print(w_min)"
   ]
  },
  {
   "cell_type": "code",
   "execution_count": null,
   "id": "249b58b7-0af4-4028-a372-50c6b3ea8d96",
   "metadata": {},
   "outputs": [],
   "source": [
    "6. 勾配降下法による関数の最小化  \n",
    "スライドの勾配降下法で極値を漸近的に求めるプログラムを書け。条件は以下とする(J'=0よりw=-0.25のときに最小化する。これと勾配降下法の答えが一致するはず)\n",
    "- wの初期値を1000,\n",
    "- wの学習率α=0.1\n",
    "- 収束判定条件　p.7 (1)(2)の2通りでかけ  \n",
    "\n",
    "ヒント：ループにwhile True: を使う。収束判定条件を満たしたらbreakして、wを表示する"
   ]
  },
  {
   "cell_type": "code",
   "execution_count": null,
   "id": "69b6f396-79e9-4f0d-8e13-a62db2f24859",
   "metadata": {},
   "outputs": [],
   "source": [
    "w = 1000\n",
    "while True:\n",
    "    w_delta = 4*w+1\n",
    "    w = w - 0.1*w_delta\n",
    "    if w_delta < 0.01:\n",
    "        break\n",
    "print(w)"
   ]
  },
  {
   "cell_type": "code",
   "execution_count": null,
   "id": "33dc22c3-f114-4979-b7d1-a78f96304d0d",
   "metadata": {},
   "outputs": [],
   "source": [
    "w = 1000\n",
    "J_prev=99\n",
    "while True:\n",
    "    w_delta = 4*w+1\n",
    "    w = w - 0.1*w_delta\n",
    "    J=2*(w**2)+w\n",
    "    delta=abs(J_prev - J)\n",
    "    if delta < 0.01:\n",
    "        break\n",
    "    J_prev=J\n",
    "print(w)"
   ]
  }
 ],
 "metadata": {
  "kernelspec": {
   "display_name": "Python 3 (ipykernel)",
   "language": "python",
   "name": "python3"
  },
  "language_info": {
   "codemirror_mode": {
    "name": "ipython",
    "version": 3
   },
   "file_extension": ".py",
   "mimetype": "text/x-python",
   "name": "python",
   "nbconvert_exporter": "python",
   "pygments_lexer": "ipython3",
   "version": "3.11.7"
  }
 },
 "nbformat": 4,
 "nbformat_minor": 5
}
