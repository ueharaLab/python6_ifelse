{
 "cells": [
  {
   "cell_type": "markdown",
   "metadata": {},
   "source": [
    "# ADALINEの入出力を計算する（順伝搬）\n",
    " 以下は、28×28 のmnist手書き数字データを1件、変数xに読み込むプログラム。\n",
    "  \n",
    "・出力データzoutは、何行何列の行列か？ \n",
    "・変数x,wにもとづき、zin, zoutを計算して結果をzoutに出力して表示せよ。なお、計算は、for文でxを1行づつ処理するコーディングと、numpy.dotで一辺に処理するコーディングの2通りで書くこと。 \n",
    "numpy.dotによる内積計算は以下を参照  \n",
    "https://qiita.com/ao_log/items/64768b67153e8fb6820b"
   ]
  },
  {
   "cell_type": "code",
   "execution_count": 2,
   "metadata": {},
   "outputs": [],
   "source": [
    "import numpy as np\n",
    "import pandas as pd\n",
    "df_mnist = pd.read_csv('mnist2000.csv', header=None)\n",
    "x = df_mnist.iloc[0,1:].values\n",
    "wm = np.ones(784)/784\n"
   ]
  },
  {
   "cell_type": "code",
   "execution_count": 5,
   "metadata": {},
   "outputs": [
    {
     "name": "stdout",
     "output_type": "stream",
     "text": [
      "23.53826530612246\n"
     ]
    }
   ],
   "source": [
    "zin=0\n",
    "for r,w in zip(x,wm):\n",
    "    zin+=r*w\n",
    "    zout=zin\n",
    "print(zout)"
   ]
  },
  {
   "cell_type": "code",
   "execution_count": 6,
   "metadata": {},
   "outputs": [
    {
     "name": "stdout",
     "output_type": "stream",
     "text": [
      "23.538265306122447\n"
     ]
    }
   ],
   "source": [
    "zin=np.dot(x,wm)\n",
    "zout=zin\n",
    "print(zout)"
   ]
  },
  {
   "cell_type": "markdown",
   "metadata": {},
   "source": [
    "# 複数のデータセットの順伝搬\n",
    " 以下は、28×28 のmnist手書き数字データを10件、変数xに読み込むプログラム。以下の問いに答えよ。  \n",
    "・xは何行何列の行列か？  \n",
    "・出力データzoutは、何行何列の行列か？ \n",
    "・変数x,wにもとづき、zin, zoutを計算して結果をzoutに出力して表示せよ。なお、計算は、for文でxを1行づつ処理するコーディングと、numpyブロードキャストで一辺に処理するコーディングの2通りで書くこと。 \n",
    "numpyブロードキャストによる行列計算は以下を参照  \n",
    "https://qiita.com/ao_log/items/64768b67153e8fb6820b"
   ]
  },
  {
   "cell_type": "code",
   "execution_count": null,
   "metadata": {},
   "outputs": [],
   "source": [
    "import numpy as np\n",
    "import pandas as pd\n",
    "df_mnist = pd.read_csv('mnist2000.csv', header=None)\n",
    "x = df_mnist.iloc[:10,1:].values\n",
    "wm = np.ones(784)/784\n",
    "zin = np.zeros(len(x))\n",
    "zout = np.zeros(len(x))"
   ]
  },
  {
   "cell_type": "markdown",
   "metadata": {},
   "source": [
    "## 解１"
   ]
  },
  {
   "cell_type": "code",
   "execution_count": null,
   "metadata": {},
   "outputs": [],
   "source": [
    "for i,row in enumerate(x):\n",
    "    for r,w in zip(row,wm):\n",
    "        zin[i]+=r*w\n",
    "        zout=zin\n",
    "print(zout)"
   ]
  },
  {
   "cell_type": "markdown",
   "metadata": {},
   "source": [
    "## 解２"
   ]
  },
  {
   "cell_type": "code",
   "execution_count": null,
   "metadata": {},
   "outputs": [],
   "source": [
    "zin =np.dot(x,wm)\n",
    "zout = zin\n",
    "print(zout)"
   ]
  },
  {
   "cell_type": "markdown",
   "metadata": {},
   "source": [
    "# 誤差二乗和の計算 \n",
    "1. スライドに示した予測値１と教師データとの誤差二乗和を計算せよ(numpy ブロードキャストを使うこと）\n",
    "2. 同様にスライドの予測値２と教師データとの誤差二乗和を計算せよ\n",
    "3. 予測値１，２どちらが、予測性能がよいと言えるか\n",
    "4. 上記、ADALINEの入出力において、まったく同じxを入力したとしたときに、異なる予測値１，２が得られるとすると、何が原因と考えられるか？"
   ]
  },
  {
   "cell_type": "code",
   "execution_count": null,
   "metadata": {},
   "outputs": [],
   "source": [
    "z1 = np.array([0.8,0.2,0.1,0.5,0.3,0.7])\n",
    "z2= np.array([0.5,0.3,0.8, 0.2, 0.9,0.2])\n",
    "t=np.array([1, 0, 1, 1, 0, 1])\n",
    "\n",
    "sq1 = np.sum((z1-t)**2)\n",
    "sq2 = np.sum((z2-t)**2)\n",
    "print(sq1,sq2)"
   ]
  },
  {
   "cell_type": "markdown",
   "metadata": {},
   "source": [
    "# ADLINEへの手書き数字入力による誤差二乗和の計算  \n",
    "以下は、784次元グレースケール手書き数字特徴量をxに読み込み、教師データtには、xの手書きが数字２ならば１、それ以外の数字なら０を要素として書き込んでいる。このデータをもとに、誤差二乗和を計算せよ。（ヒント：最初の問題の答えと、tとの誤差二乗和を計算する） \n",
    "なお、wmはあらかじめ分かっているものとする（以下のwmを用いること）"
   ]
  },
  {
   "cell_type": "code",
   "execution_count": 1,
   "metadata": {},
   "outputs": [
    {
     "name": "stdout",
     "output_type": "stream",
     "text": [
      "(20, 784)\n"
     ]
    }
   ],
   "source": [
    "import numpy as np\n",
    "import pandas as pd\n",
    "import random\n",
    "\n",
    "df_mnist = pd.read_csv('mnist2000.csv', header=None)\n",
    "\n",
    "df_mnist.iloc[:,0][df_mnist.iloc[:,0]!=2]=0\n",
    "df_mnist.iloc[:,0][df_mnist.iloc[:,0]==2]=1\n",
    "df_two = df_mnist[df_mnist.iloc[:,0]==1]\n",
    "df_not_two = df_mnist[df_mnist.iloc[:,0]==0]\n",
    "dataset1 = df_two.iloc[:10,:].values\n",
    "dataset2 = df_not_two.iloc[:10,:].values\n",
    "dataset=np.concatenate([dataset1, dataset2], 0)\n",
    "np.random.shuffle(dataset)\n",
    "np.set_printoptions(threshold=100000)\n",
    "t = dataset[:,0]\n",
    "x = dataset[:,1:]\n",
    "print(x.shape)\n",
    "\n",
    "wm = np.ones(784)/784\n",
    "zin = np.zeros(len(x))\n",
    "zout = np.zeros(len(x))"
   ]
  },
  {
   "cell_type": "markdown",
   "metadata": {},
   "source": [
    "# 一応データを確認  \n",
    "xの要素をグレースケール表示。t:に教師データを表示（２なら１，2以外は０になっている）"
   ]
  },
  {
   "cell_type": "code",
   "execution_count": 2,
   "metadata": {},
   "outputs": [
    {
     "data": {
      "image/png": "[encoded data removed]",
      "text/plain": [
       "<Figure size 1080x504 with 20 Axes>"
      ]
     },
     "metadata": {
      "needs_background": "light"
     },
     "output_type": "display_data"
    }
   ],
   "source": [
    "import matplotlib.pyplot as plt\n",
    "from pylab import rcParams\n",
    "rcParams['figure.figsize'] = 15,7\n",
    "\n",
    "fig=plt.figure()\n",
    "\n",
    "for i,(xx,tt) in enumerate(zip(x,t)):\n",
    "\n",
    "    image_array=np.asfarray(xx).reshape((28,28))\n",
    "    ax = fig.add_subplot(4,5,i+1)\n",
    "    ax.imshow(image_array,cmap='Greys',interpolation='None')\n",
    "    ax.axis(\"off\")   \n",
    "    ax.text(0.4,0.4, 't:'+ str(tt) , size = 18,linespacing = 2)\n",
    "\n",
    "plt.show()"
   ]
  },
  {
   "cell_type": "code",
   "execution_count": 3,
   "metadata": {},
   "outputs": [
    {
     "name": "stdout",
     "output_type": "stream",
     "text": [
      "19849.612554013933\n"
     ]
    }
   ],
   "source": [
    "zin =np.dot(x,wm)\n",
    "zout = zin\n",
    "sq = np.sum((zout-t)**2)\n",
    "print(sq)"
   ]
  },
  {
   "cell_type": "markdown",
   "metadata": {},
   "source": [
    "# 勾配降下法による関数の最小化\n",
    "スライドのJを最小化するwの値をもとめるプログラムを書け。(J'=0よりw=-0.25のときに最小化する。これと勾配降下法の答えが一致するはず)\n",
    "wの初期値を1000, wの学習率α=0.1 収束判定条件　勾配<0.01 とする。 \n",
    "ヒント：ループにwhile Ture: を使う。収束判定条件を満たしたらbreakして、wを表示する"
   ]
  },
  {
   "cell_type": "code",
   "execution_count": 5,
   "metadata": {},
   "outputs": [
    {
     "name": "stdout",
     "output_type": "stream",
     "text": [
      "-0.24897625375833027\n"
     ]
    }
   ],
   "source": [
    "w = 1000\n",
    "while True:\n",
    "    w_delta = 4*w+1\n",
    "    w = w - 0.1*w_delta\n",
    "    if w_delta < 0.01:\n",
    "        break\n",
    "print(w)"
   ]
  },
  {
   "cell_type": "markdown",
   "metadata": {},
   "source": [
    "# ADALINEのウエイトを勾配降下法で求める  \n",
    "以下は、0-126 のグレーに対して、1　127-256のグレーに対して、0 を教師ラベルにする（黒っぽければ１、白っぽければ０）データを生成するプログラムである。xには、グレーのデータが１００個ランダムに入っている。まず、xを標準化せよ。（標準化後の変数もxとする）"
   ]
  },
  {
   "cell_type": "markdown",
   "metadata": {},
   "source": [
    "複数の変数を同期しながらシャッフルする方法\n",
    "https://dlrecord.hatenablog.com/entry/2017/11/28/194512"
   ]
  },
  {
   "cell_type": "code",
   "execution_count": 6,
   "metadata": {},
   "outputs": [],
   "source": [
    "import random\n",
    "import numpy as np\n",
    "x1=[random.randrange(0, 126, 1) for i in range(50)]\n",
    "t1=[1 for i in range(50)]\n",
    "x2=[random.randrange(127, 255, 1) for i in range(50)]\n",
    "t2=[0 for i in range(50)]\n",
    "x=x1+x2\n",
    "t=t1+t2\n",
    "zipped = list(zip(x,t))\n",
    "np.random.shuffle(zipped)\n",
    "x, t = zip(*zipped)\n",
    "x=np.array(x)\n",
    "\n"
   ]
  },
  {
   "cell_type": "code",
   "execution_count": 7,
   "metadata": {},
   "outputs": [
    {
     "name": "stdout",
     "output_type": "stream",
     "text": [
      "[0 1 1 0 1 0 1 0 1 1 1 0 0 0 1 1 0 0 1 1 1 1 1 1 0 1 1 0 0 1 1 0 0 0 1 0 1\n",
      " 0 0 1 1 0 0 1 1 0 1 0 0 1 1 1 1 1 0 0 0 0 0 1 0 1 1 0 0 0 1 1 0 1 0 0 0 0\n",
      " 1 0 1 1 0 0 1 1 0 0 1 0 1 1 1 1 1 1 0 0 0 1 0 0 0 0]\n"
     ]
    }
   ],
   "source": [
    "mean=np.mean(x)\n",
    "var = np.var(x)\n",
    "x=(x-mean)/var\n",
    "\n",
    "t=np.array(t)\n",
    "\n",
    "print(t)"
   ]
  },
  {
   "cell_type": "markdown",
   "metadata": {},
   "source": [
    "上記のx,tにもとづき、スライドのアルゴリズムのとおり、ADALINEのウエイトw0,w1を勾配降下法で推定せよ\n",
    "（以下の通り10,000回勾配降下した結果を表示せよ）"
   ]
  },
  {
   "cell_type": "code",
   "execution_count": 8,
   "metadata": {},
   "outputs": [
    {
     "name": "stdout",
     "output_type": "stream",
     "text": [
      "0.5 -31.563172107117776\n"
     ]
    }
   ],
   "source": [
    "w0 = 0.5\n",
    "w1 = 0.1\n",
    "for i in range(10000):\n",
    "    w0_delta = 2*np.sum(((w0+x*w1)-t))\n",
    "    w1_delta = 2*np.sum(((w0+x*w1)-t)*x)\n",
    "    w0 = w0 - 0.01*w0_delta\n",
    "    w1 = w1 - 0.01*w1_delta\n",
    "    \n",
    "print(w0,w1)"
   ]
  },
  {
   "cell_type": "markdown",
   "metadata": {},
   "source": [
    "学習済ADALINEに、以下の値を入力して予測値を表示せよ（標準化すること）   \n",
    "  x_test=[0,120,180,255]  \n",
    "予測値は当たっていると言えるか、評価せよ"
   ]
  },
  {
   "cell_type": "code",
   "execution_count": 15,
   "metadata": {},
   "outputs": [
    {
     "name": "stdout",
     "output_type": "stream",
     "text": [
      "[ 2.89117894  0.13532997 -1.24259452 -2.96500012]\n"
     ]
    }
   ],
   "source": [
    "x_test=[0,120,180,255]\n",
    "x_test=(x_test-mean)/var\n",
    "zout = w0+w1*x_test\n",
    "print(zout)\n"
   ]
  },
  {
   "cell_type": "markdown",
   "metadata": {},
   "source": [
    "以下を実行して何を表示しているのか答えよ"
   ]
  },
  {
   "cell_type": "code",
   "execution_count": 9,
   "metadata": {},
   "outputs": [
    {
     "data": {
      "image/png": "[encoded data removed]",
      "text/plain": [
       "<Figure size 432x288 with 1 Axes>"
      ]
     },
     "metadata": {
      "needs_background": "light"
     },
     "output_type": "display_data"
    }
   ],
   "source": [
    "import matplotlib.pyplot as plt\n",
    "fig = plt.figure(figsize=(6, 4))\n",
    "ax = fig.add_subplot()\n",
    "ax.scatter(x,t, c='blue')\n",
    "ax.scatter(x,w0+w1*x)\n",
    "\n",
    "plt.show()"
   ]
  },
  {
   "cell_type": "markdown",
   "metadata": {},
   "source": [
    "gをシグモイド関数として、ADALINEのw0, w1を勾配降下法で推定せよ（x,tは上記と同じデータ）"
   ]
  },
  {
   "cell_type": "code",
   "execution_count": 17,
   "metadata": {},
   "outputs": [
    {
     "name": "stdout",
     "output_type": "stream",
     "text": [
      "-0.010041064752237065 -122.05382031739794\n"
     ]
    }
   ],
   "source": [
    "def sigmoid(w0,w1,x):\n",
    "    g=1/(1+np.exp(-(w0+x*w1)))\n",
    "    return g\n",
    "    \n",
    "\n",
    "w0 = 0.5\n",
    "w1 = 0.1\n",
    "for i in range(10000):\n",
    "    g=sigmoid(w0,w1,x)\n",
    "    w0_delta = 2*np.sum((g-t)*(1-g)*g)\n",
    "    w1_delta = 2*np.sum((g-t)*(1-g)*g*x)\n",
    "    w0 = w0 - 0.1*w0_delta\n",
    "    w1 = w1 - 0.1*w1_delta\n",
    "    \n",
    "print(w0,w1)"
   ]
  },
  {
   "cell_type": "markdown",
   "metadata": {},
   "source": [
    "学習済ADALINEに、以下の値を入力して予測値を表示せよ（標準化すること）   \n",
    "  x_test=[0,120,180,255]  \n",
    "予測値は当たっていると言えるか、評価せよ"
   ]
  },
  {
   "cell_type": "code",
   "execution_count": 18,
   "metadata": {},
   "outputs": [
    {
     "name": "stdout",
     "output_type": "stream",
     "text": [
      "[0.94740865 0.53378095 0.2239847  0.04903233]\n"
     ]
    }
   ],
   "source": [
    "x_test=[0,120,180,255]\n",
    "x_test=(x_test-mean)/var\n",
    "zout=sigmoid(w0,w1,x_test)\n",
    "print(zout)\n"
   ]
  },
  {
   "cell_type": "markdown",
   "metadata": {},
   "source": [
    "モデルの表現力を確かめる"
   ]
  },
  {
   "cell_type": "code",
   "execution_count": 11,
   "metadata": {},
   "outputs": [
    {
     "data": {
      "image/png": "[encoded data removed]",
      "text/plain": [
       "<Figure size 432x288 with 1 Axes>"
      ]
     },
     "metadata": {
      "needs_background": "light"
     },
     "output_type": "display_data"
    }
   ],
   "source": [
    "import matplotlib.pyplot as plt\n",
    "fig = plt.figure(figsize=(6, 4))\n",
    "ax = fig.add_subplot()\n",
    "ax.scatter(x,t, c='blue')\n",
    "ax.scatter(x,sigmoid(w0,w1,x))\n",
    "\n",
    "plt.show()"
   ]
  },
  {
   "cell_type": "markdown",
   "metadata": {},
   "source": [
    "# 28x28ピクセル手書き数字を判別するADALINE  \n",
    "教師データは、手書き数字が２なら1, ２でなければ０とする。  \n",
    "データセットは、２のデータを100サンプル、2以外のデータを100サンプル  \n"
   ]
  },
  {
   "cell_type": "code",
   "execution_count": 27,
   "metadata": {},
   "outputs": [
    {
     "name": "stdout",
     "output_type": "stream",
     "text": [
      "(200, 785)\n"
     ]
    }
   ],
   "source": [
    "import numpy as np\n",
    "import pandas as pd\n",
    "import random\n",
    "\n",
    "df_mnist = pd.read_csv('mnist2000.csv', header=None)\n",
    "\n",
    "df_mnist.iloc[:,0][df_mnist.iloc[:,0]!=2]=0\n",
    "df_mnist.iloc[:,0][df_mnist.iloc[:,0]==2]=1\n",
    "df_two = df_mnist[df_mnist.iloc[:,0]==1]\n",
    "df_not_two = df_mnist[df_mnist.iloc[:,0]==0]\n",
    "dataset1 = df_two.iloc[:100,:].values\n",
    "dataset2 = df_not_two.iloc[:100,:].values\n",
    "dataset=np.concatenate([dataset1, dataset2], 0)\n",
    "print(dataset.shape)\n",
    "np.random.shuffle(dataset)\n",
    "np.set_printoptions(threshold=100000)\n",
    "t = dataset[:,0]\n",
    "x = dataset[:,1:]\n",
    "mean=np.mean(x)\n",
    "var = np.var(x)\n",
    "x=(x-mean)/var\n",
    "\n",
    "wm = np.ones(784)/784\n",
    "w0 = 0.5\n",
    "zin = np.zeros(len(x))\n",
    "zout = np.zeros(len(x))"
   ]
  },
  {
   "cell_type": "markdown",
   "metadata": {},
   "source": [
    "1. 100サンプルのデータxとウエイトw0,wmとの内積を一度に計算するコーディングをいかに書け（zinに結果を書き出す）  \n",
    "2. 上記の計算結果をsigmoid関数で一度に計算するコーディングを書け  \n",
    "3. Jのwmによる偏微分784回を一度に計算するコーディングを書け"
   ]
  },
  {
   "cell_type": "code",
   "execution_count": 28,
   "metadata": {},
   "outputs": [
    {
     "name": "stdout",
     "output_type": "stream",
     "text": [
      "(200,)\n",
      "(200,)\n",
      "(784, 200)\n",
      "(784, 200)\n"
     ]
    }
   ],
   "source": [
    "import numpy as np\n",
    "w0m=np.insert(wm, 0, w0)\n",
    "x1=np.insert(x,0,1,axis=1)\n",
    "zin=np.dot(x1,w0m)\n",
    "print(zin.shape)\n",
    "\n",
    "#以下は別解\n",
    "zin=w0+np.dot(x,wm)\n",
    "\n",
    "\n",
    "g=1/(1+np.exp(w0+np.dot(x,wm)))\n",
    "print(g.shape)\n",
    "\n",
    "delta_wm=np.sum((g-t)*(1-g)*g)*x.T\n",
    "print(delta_wm.shape)\n",
    "\n",
    "#別解\n",
    "wm_delta = np.array([2*np.sum((g-t)*(1-g)*g*xm) for xm in x.T])\n",
    "print(delta_wm.shape)"
   ]
  },
  {
   "cell_type": "markdown",
   "metadata": {},
   "source": [
    "上記のウエイトが２つ(w0,w1)の場合のADALINEを拡張して、w0,wm(m:1-784)を学習するADALINEをコーディングせよ"
   ]
  },
  {
   "cell_type": "code",
   "execution_count": 29,
   "metadata": {},
   "outputs": [
    {
     "name": "stdout",
     "output_type": "stream",
     "text": [
      "-0.7456616638934129 [ 8.03550167e-03  8.03550167e-03  8.03550167e-03  8.03550167e-03\n",
      "  8.03550167e-03  8.03550167e-03  8.03550167e-03  8.03550167e-03\n",
      "  8.03550167e-03  8.03550167e-03  8.03550167e-03  8.03550167e-03\n",
      "  8.03550167e-03  8.03550167e-03  8.03550167e-03  8.03550167e-03\n",
      "  8.03550167e-03  8.03550167e-03  8.03550167e-03  8.03550167e-03\n",
      "  8.03550167e-03  8.03550167e-03  8.03550167e-03  8.03550167e-03\n",
      "  8.03550167e-03  8.03550167e-03  8.03550167e-03  8.03550167e-03\n",
      "  8.03550167e-03  8.03550167e-03  8.03550167e-03  8.03550167e-03\n",
      "  8.03550167e-03  8.03550167e-03  8.03550167e-03  8.03550167e-03\n",
      "  8.03550167e-03  8.03550167e-03  8.03550167e-03  8.03550167e-03\n",
      "  8.03550167e-03  8.03550167e-03  8.03550167e-03  8.03550167e-03\n",
      "  8.03550167e-03  8.03550167e-03  8.03550167e-03  8.03550167e-03\n",
      "  8.03550167e-03  8.03550167e-03  8.03550167e-03  8.03550167e-03\n",
      "  8.03550167e-03  8.03550167e-03  8.03550167e-03  8.03550167e-03\n",
      "  8.03550167e-03  8.03550167e-03  8.03550167e-03  8.03550167e-03\n",
      "  8.03550167e-03  8.03550167e-03  8.03550167e-03  8.03550167e-03\n",
      "  8.03550167e-03  3.15684078e-02  6.19134709e-02  6.37670888e-02\n",
      " -1.87822405e-02 -5.03446802e-02  2.14878875e-01  1.91973854e-01\n",
      "  8.97051064e-02 -2.26522774e-02 -1.72267362e-02  8.03550167e-03\n",
      "  8.03550167e-03  8.03550167e-03  8.03550167e-03  8.03550167e-03\n",
      "  8.03550167e-03  8.03550167e-03  8.03550167e-03  8.03550167e-03\n",
      "  8.03550167e-03  8.03550167e-03  8.03550167e-03  8.03550167e-03\n",
      "  8.03550167e-03  2.91677309e-02  8.51989177e-02  1.39619561e-01\n",
      "  2.39344706e-01  3.65222846e-01  3.16371737e-01  2.13829989e-01\n",
      "  2.30032866e-01  6.07946853e-01  8.93235362e-01  7.51935605e-01\n",
      "  4.34684038e-01  2.81913251e-01  1.50020896e-01  1.97449465e-02\n",
      "  2.56074297e-02  8.03550167e-03  8.03550167e-03  8.03550167e-03\n",
      "  8.03550167e-03  8.03550167e-03  8.03550167e-03  8.03550167e-03\n",
      "  8.03550167e-03  8.03550167e-03  8.03550167e-03  8.03550167e-03\n",
      "  8.03550167e-03  9.78474758e-02  3.08613597e-01  5.51633035e-01\n",
      "  7.38223380e-01  8.95982607e-01  1.00248011e+00  8.91193475e-01\n",
      "  1.20970481e+00  1.57954661e+00  1.70431228e+00  1.64565918e+00\n",
      "  1.48282379e+00  9.54107645e-01  6.93375460e-01  3.88457950e-01\n",
      "  1.91816473e-01  1.24224357e-01 -1.48470105e-02 -1.94484077e-02\n",
      " -7.16148351e-03  8.03550167e-03  8.03550167e-03  8.03550167e-03\n",
      "  8.03550167e-03  8.03550167e-03  8.03550167e-03  8.03550167e-03\n",
      "  8.03550167e-03  6.35560308e-02  3.22058216e-01  5.99959758e-01\n",
      "  8.19295952e-01  1.03195094e+00  9.36761485e-01  1.34023015e+00\n",
      "  1.79268858e+00  1.87939155e+00  1.85936400e+00  2.01617007e+00\n",
      "  2.00461626e+00  1.60685214e+00  1.06715642e+00  6.58667880e-01\n",
      "  2.39472383e-01  6.86223280e-02 -1.17903700e-01 -1.42430453e-01\n",
      " -9.39123801e-02  3.04450140e-03  8.03550167e-03  8.03550167e-03\n",
      "  8.03550167e-03  8.03550167e-03  8.03550167e-03  8.03550167e-03\n",
      "  2.58461472e-03  5.10862593e-02  2.26963298e-01  2.92114418e-01\n",
      "  3.75309424e-01  7.76513107e-01  1.19544144e+00  1.64881820e+00\n",
      "  1.47289429e+00  1.17098159e+00  1.04266061e+00  1.02004586e+00\n",
      "  8.39133309e-01  1.00861252e+00  7.93550987e-01  4.07467999e-01\n",
      " -8.46651136e-03 -1.47215697e-01 -1.24378621e-01 -1.95099895e-01\n",
      " -1.97717268e-01 -1.74685887e-03  8.03550167e-03  8.03550167e-03\n",
      "  8.03550167e-03  8.03550167e-03  6.64410980e-04 -1.39625971e-02\n",
      " -9.18034673e-02  4.63180674e-02  1.16552607e-01  1.87019571e-01\n",
      "  3.50962290e-01  4.87980694e-01  4.14854961e-01  2.78735727e-01\n",
      " -1.04193705e-01 -4.79720791e-01 -1.62997010e-01  7.90095433e-02\n",
      " -2.12882672e-01  3.84890721e-01  2.37587482e-01  3.56969118e-01\n",
      " -6.92700717e-02 -3.81830800e-01 -1.83384416e-01 -1.72452693e-01\n",
      " -1.38783375e-01  8.03550167e-03  8.03550167e-03  8.03550167e-03\n",
      "  8.03550167e-03  8.03550167e-03 -3.76949870e-02 -5.63700172e-02\n",
      " -1.62462326e-01 -2.75467165e-02  1.77021506e-01  2.70151941e-01\n",
      "  2.16952546e-01 -3.31191136e-01 -8.14720950e-01 -1.19010732e+00\n",
      " -1.68203251e+00 -1.61730218e+00 -9.85763686e-01 -4.53538877e-01\n",
      " -3.21703171e-01  1.74970311e-01  8.05227782e-03  1.60232406e-01\n",
      " -1.81228712e-01 -3.97010574e-01 -1.64497438e-01 -8.18241003e-02\n",
      " -4.44640771e-02  8.03550167e-03  8.03550167e-03  8.03550167e-03\n",
      "  8.03550167e-03  8.03550167e-03 -2.46008305e-02 -5.66491911e-02\n",
      " -5.21782293e-02  6.16708234e-03  1.87713905e-01  5.25118941e-02\n",
      " -4.43961325e-01 -1.07557071e+00 -1.36224740e+00 -1.50433988e+00\n",
      " -1.74768654e+00 -1.58948722e+00 -1.09670740e+00 -5.85569235e-01\n",
      "  8.96548848e-02  3.30967963e-01  5.17418853e-01  2.16429151e-02\n",
      " -8.93311140e-03 -1.32937735e-01 -3.16135967e-01 -1.96069353e-01\n",
      " -1.06494072e-02  8.03550167e-03  8.03550167e-03  8.03550167e-03\n",
      "  8.03550167e-03  8.03550167e-03  8.03550167e-03  5.65360780e-02\n",
      "  1.06539523e-01  1.28718197e-01 -5.95138119e-02 -3.10150237e-01\n",
      " -1.09317085e+00 -1.48492623e+00 -1.53305668e+00 -1.50290809e+00\n",
      " -1.42407389e+00 -1.44005958e+00 -1.18800498e+00 -4.39448689e-01\n",
      "  2.56348381e-01  7.64532091e-01  6.04742540e-01  8.45523427e-02\n",
      "  2.57400658e-02 -2.29087850e-03 -4.40938938e-01 -2.76623516e-01\n",
      " -2.56982473e-02  8.03550167e-03  8.03550167e-03  8.03550167e-03\n",
      "  8.03550167e-03  8.03550167e-03  8.03550167e-03  5.44120369e-02\n",
      "  4.99081908e-02  6.09653274e-02 -3.84619703e-01 -7.63341852e-01\n",
      " -1.44764484e+00 -1.59400507e+00 -1.48868217e+00 -1.50796919e+00\n",
      " -1.27097807e+00 -1.24215334e+00 -1.16038192e+00 -6.05084209e-01\n",
      "  2.68041259e-01  7.79945278e-01  6.03727903e-01  3.07176183e-02\n",
      "  1.06246932e-02 -2.96541476e-01 -5.58298441e-01 -3.09588406e-01\n",
      " -7.64738251e-02  8.03550167e-03  8.03550167e-03  8.03550167e-03\n",
      "  8.03550167e-03  8.03550167e-03  8.03550167e-03 -1.23726534e-02\n",
      " -3.66777931e-03 -3.61451759e-02 -5.38921833e-01 -1.00393456e+00\n",
      " -1.57205032e+00 -1.56149107e+00 -1.44228355e+00 -1.46491112e+00\n",
      " -1.27150607e+00 -1.18620630e+00 -1.29416084e+00 -6.90720544e-01\n",
      "  2.44903593e-01  7.32427575e-01  5.10521560e-01  7.17332705e-02\n",
      "  4.53853202e-02 -5.31750395e-01 -6.15736035e-01 -3.03345512e-01\n",
      " -1.20368731e-01 -2.39366720e-02  8.03550167e-03  8.03550167e-03\n",
      "  8.03550167e-03  8.03550167e-03  8.03550167e-03  8.03550167e-03\n",
      " -4.27841205e-03 -1.72925304e-01 -5.00502091e-01 -1.20521696e+00\n",
      " -1.57759283e+00 -1.59456543e+00 -1.55830681e+00 -1.19817469e+00\n",
      " -1.00510290e+00 -1.02773890e+00 -1.07527071e+00 -4.37641746e-01\n",
      "  3.85950128e-01  3.79182861e-01  8.37362314e-02 -4.82286988e-02\n",
      " -1.69337852e-01 -4.97189127e-01 -5.87610528e-01 -3.51310372e-01\n",
      " -1.81527635e-01 -9.88240581e-02  5.76635530e-03  8.03550167e-03\n",
      "  8.03550167e-03  8.03550167e-03  8.03550167e-03  6.99551509e-03\n",
      " -2.85541328e-02 -1.97421896e-01 -4.97271601e-01 -1.21842409e+00\n",
      " -1.57543191e+00 -1.42498890e+00 -9.30790203e-01 -1.44227271e-01\n",
      " -2.76841651e-01 -5.67463818e-01 -5.44761241e-01 -8.43222472e-02\n",
      "  1.26775989e-01  6.17713936e-03 -2.01027547e-01 -2.95839615e-01\n",
      " -4.96441524e-01 -6.25155036e-01 -7.11150411e-01 -4.18854723e-01\n",
      " -2.29123475e-01 -1.36003149e-01 -2.12888514e-02  8.03550167e-03\n",
      "  8.03550167e-03  8.03550167e-03  8.03550167e-03 -2.25401038e-02\n",
      " -3.75667028e-02 -1.66224681e-01 -3.84335234e-01 -1.03890302e+00\n",
      " -1.09784863e+00 -1.06918085e+00 -4.27925640e-01  2.49284891e-01\n",
      "  7.80735866e-01  7.23974101e-01  2.13888035e-01  1.19799304e-02\n",
      "  5.75954444e-02 -1.24166155e-01 -1.90426257e-01 -4.45175689e-01\n",
      " -5.57071356e-01 -6.52942396e-01 -6.83098510e-01 -2.96293123e-01\n",
      " -1.28940455e-01 -4.80508472e-02  8.03550167e-03  8.03550167e-03\n",
      "  8.03550167e-03  8.03550167e-03  8.03550167e-03 -3.64759240e-02\n",
      " -5.84367686e-03 -7.15939054e-02 -3.30147656e-01 -4.86769545e-01\n",
      " -4.83253267e-01 -3.06802506e-01 -6.41887349e-02  7.64964302e-01\n",
      "  1.57960993e+00  1.33204299e+00  6.71283608e-01  4.31250131e-01\n",
      "  2.91407453e-02 -3.60724911e-02 -1.62488847e-01 -3.97924840e-01\n",
      " -4.09333466e-01 -4.47927761e-01 -3.79219796e-01  1.04473051e-01\n",
      "  2.73588599e-01  1.58699665e-01  8.61187550e-02  3.54011278e-02\n",
      "  8.03550167e-03  8.03550167e-03  8.03550167e-03 -3.19635341e-03\n",
      "  1.02690704e-01  1.29337251e-01  5.47343946e-02  1.43472601e-01\n",
      "  3.72581697e-01  3.66392219e-01  7.62468040e-01  1.56208355e+00\n",
      "  1.69700455e+00  1.16503129e+00  5.90140367e-01  6.22634563e-01\n",
      "  2.45636148e-01  1.26217147e-01 -2.60764537e-01 -2.93156297e-01\n",
      " -5.86122954e-02 -1.87996819e-01 -5.17948359e-02  1.52658734e-01\n",
      "  3.53585098e-01  1.52523796e-01  3.39416278e-02  5.21853786e-02\n",
      "  8.03550167e-03  8.03550167e-03  8.03550167e-03  8.03550167e-03\n",
      "  2.48667346e-02  1.65462662e-01  4.30080739e-01  6.51694845e-01\n",
      "  1.07973704e+00  1.03793906e+00  1.44546443e+00  2.01424013e+00\n",
      "  1.57855406e+00  1.04823219e+00  5.92621077e-01  4.36972371e-01\n",
      "  2.64606033e-01 -4.46249354e-02 -4.55913966e-01 -3.79335440e-01\n",
      "  1.02932312e-01  1.77277527e-01  3.35444275e-01  3.43625336e-01\n",
      "  3.78869206e-01  2.35259918e-01  8.03550167e-03  8.03550167e-03\n",
      "  8.03550167e-03  8.03550167e-03  8.03550167e-03  8.52223848e-03\n",
      "  7.55387399e-02  4.46060073e-01  9.42834436e-01  9.52107769e-01\n",
      "  1.31169323e+00  1.43384250e+00  1.81523775e+00  1.75824479e+00\n",
      "  1.25286316e+00  1.08505798e+00  6.81667658e-01  4.56963508e-01\n",
      "  1.05046058e-01 -1.51639595e-02 -2.38421119e-01 -2.30720260e-01\n",
      "  2.68447630e-01  8.81301407e-01  9.30616038e-01  6.26646399e-01\n",
      "  5.08153356e-01  2.63711701e-01  3.41874095e-02  8.03550167e-03\n",
      "  8.03550167e-03  8.03550167e-03  8.03550167e-03  1.37546592e-02\n",
      "  1.70587485e-01  6.76263866e-01  1.20314752e+00  1.33938150e+00\n",
      "  1.59506128e+00  1.87266909e+00  2.08832364e+00  1.64072728e+00\n",
      "  9.74963736e-01  5.48862292e-01  5.15009404e-01  2.27945755e-01\n",
      " -1.10517359e-01 -3.47281085e-01  1.01743068e-01  9.15525002e-01\n",
      "  1.15237333e+00  1.33387434e+00  1.25925467e+00  8.51266762e-01\n",
      "  4.97501676e-01  1.41137834e-01  4.74880350e-02  8.03550167e-03\n",
      "  8.03550167e-03  8.03550167e-03  8.03550167e-03  1.35112908e-02\n",
      "  2.01922428e-01  6.04238252e-01  1.07625719e+00  1.19364703e+00\n",
      "  1.56157542e+00  1.90693124e+00  1.95326763e+00  1.19542835e+00\n",
      "  5.23331531e-01 -2.94139373e-03 -1.07631099e-01 -4.90869167e-01\n",
      " -7.75579419e-01 -5.98947436e-01  1.53997626e-01  9.57766546e-01\n",
      "  1.00796845e+00  1.05868739e+00  7.78322659e-01  6.98055410e-01\n",
      "  3.75645825e-01  3.58722106e-02  2.15969753e-02  8.03550167e-03\n",
      "  8.03550167e-03  8.03550167e-03  8.03550167e-03  8.03550167e-03\n",
      "  1.10691685e-01  3.53896820e-01  7.35268829e-01  8.07977097e-01\n",
      "  9.08899801e-01  1.21886470e+00  1.30824138e+00  8.34526727e-01\n",
      "  1.85213252e-01 -3.32083754e-01 -4.24728742e-01 -7.89633847e-01\n",
      " -7.62544169e-01 -5.41143296e-01 -1.13158020e-01  4.97993436e-01\n",
      "  5.21304068e-01  4.18612390e-01  2.34405450e-01  2.41587026e-01\n",
      "  2.14136781e-01  4.74116667e-02  8.03550167e-03  8.03550167e-03\n",
      "  8.03550167e-03  8.03550167e-03  8.03550167e-03  8.03550167e-03\n",
      "  1.05348296e-02  1.09751603e-01  2.79469113e-01  2.75685483e-01\n",
      "  3.64547272e-01  2.12113534e-01  7.82476267e-02 -3.90570142e-01\n",
      " -7.55852805e-01 -7.36793796e-01 -6.87229425e-01 -9.69688742e-01\n",
      " -9.09329322e-01 -4.76674017e-01 -5.19673853e-02  3.23099325e-01\n",
      "  2.23516493e-01  3.22647774e-02  2.56749203e-02  3.54314629e-02\n",
      "  1.22316566e-01  1.16927612e-01  8.03550167e-03  8.03550167e-03\n",
      "  8.03550167e-03  8.03550167e-03  8.03550167e-03  8.03550167e-03\n",
      "  8.03550167e-03  8.03550167e-03  1.02765280e-02 -1.36248475e-01\n",
      " -3.49371157e-01 -5.43908373e-01 -5.99179411e-01 -6.12410352e-01\n",
      " -6.02943577e-01 -5.39027944e-01 -3.86597882e-01 -3.44765424e-01\n",
      " -3.81198982e-01 -5.09209279e-02 -3.20874441e-02  7.08650408e-02\n",
      " -1.15622363e-02 -2.40004845e-02 -2.34996036e-02  2.60732781e-03\n",
      "  9.00775266e-03  9.98000365e-03  8.03550167e-03  8.03550167e-03\n",
      "  8.03550167e-03  8.03550167e-03  8.03550167e-03  8.03550167e-03\n",
      "  8.03550167e-03  8.03550167e-03  3.05538758e-03 -1.34303068e-01\n",
      " -3.20672663e-01 -4.21306708e-01 -3.63370033e-01 -3.13901611e-01\n",
      " -1.88320375e-01 -1.73415895e-01 -2.54506095e-01 -3.19482228e-01\n",
      " -3.07797185e-01 -1.18825776e-01 -6.13202816e-02 -4.21156918e-02\n",
      " -2.63957271e-02  4.67115167e-03 -2.07855167e-02 -2.04539264e-03\n",
      "  8.03550167e-03  8.03550167e-03  8.03550167e-03  8.03550167e-03\n",
      "  8.03550167e-03  8.03550167e-03  8.03550167e-03  8.03550167e-03\n",
      "  8.03550167e-03  8.03550167e-03  2.77871458e-03 -6.19627686e-02\n",
      " -6.54246932e-02 -7.61002927e-02 -1.13374490e-01 -1.98879905e-01\n",
      " -1.24065856e-01 -5.56452665e-02 -1.53067327e-01 -1.29608703e-01\n",
      " -1.09324350e-01 -2.26626018e-02 -7.50942540e-03  8.03550167e-03\n",
      "  8.03550167e-03  8.03550167e-03  8.03550167e-03  8.03550167e-03\n",
      "  8.03550167e-03  8.03550167e-03  8.03550167e-03  8.03550167e-03\n",
      "  8.03550167e-03  8.03550167e-03  8.03550167e-03  8.03550167e-03\n",
      "  8.03550167e-03  8.03550167e-03  8.03550167e-03  8.03550167e-03\n",
      "  8.03550167e-03  8.03550167e-03  8.03550167e-03  8.03550167e-03\n",
      "  8.03550167e-03  8.03550167e-03  4.28366986e-04 -2.95526932e-02\n",
      "  5.05231160e-03  8.03550167e-03  8.03550167e-03  8.03550167e-03\n",
      "  8.03550167e-03  8.03550167e-03  8.03550167e-03  8.03550167e-03\n",
      "  8.03550167e-03  8.03550167e-03  8.03550167e-03  8.03550167e-03]\n"
     ]
    }
   ],
   "source": [
    "\n",
    "def sigmoid(w0,wm,x):\n",
    "    g=1/(1+np.exp(-(w0+np.dot(x,wm))))\n",
    "    return g\n",
    "#オーバーフローしたらこちらを使ってください。   \n",
    "#def sigmoid(w0,wm,x):\n",
    "#    g=w0+np.dot(x,wm)\n",
    "#    return g\n",
    "\n",
    "for i in range(1000):\n",
    "    g=sigmoid(w0,wm,x)\n",
    "   \n",
    "    w0_delta = 2*np.sum((g-t)*(1-g)*g)\n",
    "    wm_delta = np.array([2*np.sum((g-t)*(1-g)*g*xm) for xm in x.T])\n",
    "    w0 = w0 - 0.01*w0_delta\n",
    "    wm = wm - 0.01*wm_delta\n",
    "    \n",
    "print(w0,wm)"
   ]
  },
  {
   "cell_type": "markdown",
   "metadata": {},
   "source": [
    "以下のx_testは、手書き２のサンプル５つ、手書き２でないサンプル５つを要素とする配列である。t_testはそれに対応する  \n",
    "教師データ[1 1 1 1 1 0 0 0 0 0]である。  \n",
    "上記で学習済のウエイトw0,wmを用いて、x_testから予測値zoutを計算し、教師データに近い値になるかどうかを確認せよ"
   ]
  },
  {
   "cell_type": "code",
   "execution_count": 30,
   "metadata": {},
   "outputs": [
    {
     "name": "stdout",
     "output_type": "stream",
     "text": [
      "(10, 785)\n",
      "[1 1 1 1 1 0 0 0 0 0]\n"
     ]
    }
   ],
   "source": [
    "dataset3 = df_two.iloc[:5,:].values\n",
    "dataset4 = df_not_two.iloc[:5,:].values\n",
    "test_data=np.concatenate([dataset3, dataset4], 0)\n",
    "print(test_data.shape)\n",
    "np.set_printoptions(threshold=100000)\n",
    "t_test = test_data[:,0]\n",
    "print(t_test)\n",
    "img_x = test_data[:,1:]\n",
    "mean=np.mean(img_x)\n",
    "var = np.var(img_x)\n",
    "x_test=(img_x-mean)/var\n",
    "\n",
    "\n"
   ]
  },
  {
   "cell_type": "code",
   "execution_count": 31,
   "metadata": {},
   "outputs": [
    {
     "name": "stdout",
     "output_type": "stream",
     "text": [
      "[0.82926379 0.93745492 0.69091079 0.62245737 0.75204113 0.16379562\n",
      " 0.42547854 0.17489991 0.19749053 0.44487965]\n"
     ]
    }
   ],
   "source": [
    "y = sigmoid(w0,wm,x_test)\n",
    "print(y)"
   ]
  },
  {
   "cell_type": "code",
   "execution_count": null,
   "metadata": {},
   "outputs": [],
   "source": []
  }
 ],
 "metadata": {
  "kernelspec": {
   "display_name": "Python 3 (ipykernel)",
   "language": "python",
   "name": "python3"
  },
  "language_info": {
   "codemirror_mode": {
    "name": "ipython",
    "version": 3
   },
   "file_extension": ".py",
   "mimetype": "text/x-python",
   "name": "python",
   "nbconvert_exporter": "python",
   "pygments_lexer": "ipython3",
   "version": "3.9.12"
  }
 },
 "nbformat": 4,
 "nbformat_minor": 4
}
